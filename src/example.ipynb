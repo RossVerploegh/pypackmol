{
 "cells": [
  {
   "cell_type": "markdown",
   "metadata": {},
   "source": [
    "pypackmol examples\n",
    "----\n",
    "The pypackmol module is contained inside pypackmol.py in the nanoreactor directory"
   ]
  },
  {
   "cell_type": "code",
   "execution_count": 1,
   "metadata": {
    "collapsed": false
   },
   "outputs": [],
   "source": [
    "import pypackmol"
   ]
  },
  {
   "cell_type": "markdown",
   "metadata": {
    "collapsed": false
   },
   "source": [
    "The **Packmol** class represent a packmol run.  Input files are tempfiles hidden from the user so for all in tent and purposes this behaves like a normal python component.  Argument `dimension` specifies the radius of the sphere.  You can also add any `packmol` options here in the argument.\n",
    "\n",
    "By default the `packmol` command line is just\n",
    "\n",
    "    $ packmol\n",
    "\n",
    "So you will have to put configure your PATH variable.  Alternatively you can use `command_line` argument to specify the command line.  \n",
    "\n",
    "Here we use SMILES strings to add 10 water, 10 methane and 10 ammonia molecules to the system."
   ]
  },
  {
   "cell_type": "code",
   "execution_count": 2,
   "metadata": {
    "collapsed": false
   },
   "outputs": [],
   "source": [
    "pm=pypackmol.Packmol(dimension=8)\n",
    "pm.add_structure('O',count=10)\n",
    "pm.add_structure('C',count=10)\n",
    "pm.add_structure('N',count=10)"
   ]
  },
  {
   "cell_type": "markdown",
   "metadata": {},
   "source": [
    "The `pack()` function calls packmol.  By default the packed geometry is saved in `\"packed.xyz\"`, but you can specify other path through the `output` argument.  The return is a `dict` with two fields.  *\"filename\"* contains the name of the packed geometry file, and *\"packmol output\"* contains the packmol printout."
   ]
  },
  {
   "cell_type": "code",
   "execution_count": 3,
   "metadata": {
    "collapsed": false
   },
   "outputs": [],
   "source": [
    "result=pm.pack(output=\"CNOsystem.xyz\")"
   ]
  },
  {
   "cell_type": "markdown",
   "metadata": {},
   "source": [
    "The default distance threshold is `tolerance=3.0` so the molecules are fairly separated.  SMILES are optimized to 3D structures with *Universal Force Field*.  *Merck* force fields are probably better but it cannot treat atoms like `Cs` so it is not set as default."
   ]
  },
  {
   "cell_type": "code",
   "execution_count": 4,
   "metadata": {
    "collapsed": false
   },
   "outputs": [
    {
     "data": {
      "text/html": [
       "<div id=\"molecule_a09356ce-c544-4725-b3de-fbe6ae995e8d\"></div>\n",
       "           <script type=\"text/javascript\">\n",
       "           require.config({baseUrl: '/',\n",
       "                           paths: {imolecule: ['nbextensions/imolecule.min', 'https://rawgit.com/patrickfuller/imolecule/master/imolecule/js/build/imolecule.min']}});\n",
       "           require(['imolecule'], function () {\n",
       "               var $d = $('#molecule_a09356ce-c544-4725-b3de-fbe6ae995e8d');\n",
       "               $d.width(400); $d.height(300);\n",
       "               $d.imolecule = jQuery.extend({}, imolecule);\n",
       "               $d.imolecule.create($d, {drawingType: 'ball and stick',\n",
       "                                        cameraType: 'perspective',\n",
       "                                        shader: 'lambert',\n",
       "                                        showSave: false});\n",
       "               $d.imolecule.addElements({});\n",
       "               $d.imolecule.draw({\"atoms\":[{\"charge\":-0.410466,\"element\":\"O\",\"location\":[7.137574,0.791621,-0.178589]},{\"charge\":0.205233,\"element\":\"H\",\"location\":[7.452157,0.136386,-0.851134]},{\"charge\":0.205233,\"element\":\"H\",\"location\":[6.384138,0.337832,0.276402]},{\"charge\":-0.410466,\"element\":\"O\",\"location\":[-2.243221,5.356247,-2.543274]},{\"charge\":0.205233,\"element\":\"H\",\"location\":[-2.281379,6.296065,-2.233601]},{\"charge\":0.205233,\"element\":\"H\",\"location\":[-2.444909,5.405681,-3.511511]},{\"charge\":-0.410466,\"element\":\"O\",\"location\":[1.527833,6.708180,-2.606672]},{\"charge\":0.205233,\"element\":\"H\",\"location\":[0.822313,7.382445,-2.438684]},{\"charge\":0.205233,\"element\":\"H\",\"location\":[1.355907,6.393922,-3.529867]},{\"charge\":-0.410466,\"element\":\"O\",\"location\":[1.246205,-6.151677,0.180955]},{\"charge\":0.205233,\"element\":\"H\",\"location\":[0.898542,-5.955393,-0.725254]},{\"charge\":0.205233,\"element\":\"H\",\"location\":[0.436762,-6.318430,0.726484]},{\"charge\":-0.410466,\"element\":\"O\",\"location\":[-6.343071,-0.265209,1.262759]},{\"charge\":0.205233,\"element\":\"H\",\"location\":[-6.535037,0.599741,1.705050]},{\"charge\":0.205233,\"element\":\"H\",\"location\":[-5.579898,-0.639606,1.770695]},{\"charge\":-0.410466,\"element\":\"O\",\"location\":[2.968328,-0.583868,2.804871]},{\"charge\":0.205233,\"element\":\"H\",\"location\":[2.825973,0.078080,2.082257]},{\"charge\":0.205233,\"element\":\"H\",\"location\":[2.134415,-0.552388,3.337979]},{\"charge\":-0.410466,\"element\":\"O\",\"location\":[-0.302353,0.962346,1.529641]},{\"charge\":0.205233,\"element\":\"H\",\"location\":[-0.459328,1.857289,1.923401]},{\"charge\":0.205233,\"element\":\"H\",\"location\":[-1.115198,0.780952,0.993931]},{\"charge\":-0.410466,\"element\":\"O\",\"location\":[-3.725997,-6.322792,2.325489]},{\"charge\":0.205233,\"element\":\"H\",\"location\":[-4.709005,-6.203593,2.335347]},{\"charge\":0.205233,\"element\":\"H\",\"location\":[-3.364091,-5.401361,2.349877]},{\"charge\":-0.410466,\"element\":\"O\",\"location\":[-2.176527,1.743037,-5.268418]},{\"charge\":0.205233,\"element\":\"H\",\"location\":[-3.103828,1.798251,-4.925378]},{\"charge\":0.205233,\"element\":\"H\",\"location\":[-1.982857,0.772590,-5.304882]},{\"charge\":-0.410466,\"element\":\"O\",\"location\":[5.827304,4.287303,-0.756723]},{\"charge\":0.205233,\"element\":\"H\",\"location\":[5.827090,5.268478,-0.890544]},{\"charge\":0.205233,\"element\":\"H\",\"location\":[6.742204,4.002953,-1.007142]},{\"charge\":-0.077596,\"element\":\"C\",\"location\":[-3.738313,5.955146,3.233473]},{\"charge\":0.019399,\"element\":\"H\",\"location\":[-3.306178,5.008075,2.849957]},{\"charge\":0.019399,\"element\":\"H\",\"location\":[-4.727664,6.127775,2.762143]},{\"charge\":0.019399,\"element\":\"H\",\"location\":[-3.059564,6.797559,2.987709]},{\"charge\":0.019399,\"element\":\"H\",\"location\":[-3.859852,5.887165,4.334100]},{\"charge\":-0.077596,\"element\":\"C\",\"location\":[4.021898,0.568396,6.705181]},{\"charge\":0.019399,\"element\":\"H\",\"location\":[3.886570,-0.108523,7.573648]},{\"charge\":0.019399,\"element\":\"H\",\"location\":[4.454946,1.529923,7.049715]},{\"charge\":0.019399,\"element\":\"H\",\"location\":[3.039120,0.756066,6.225923]},{\"charge\":0.019399,\"element\":\"H\",\"location\":[4.706974,0.096108,5.971431]},{\"charge\":-0.077596,\"element\":\"C\",\"location\":[4.449119,3.361964,3.049110]},{\"charge\":0.019399,\"element\":\"H\",\"location\":[5.428393,3.278482,2.534500]},{\"charge\":0.019399,\"element\":\"H\",\"location\":[3.633944,3.352319,2.296672]},{\"charge\":0.019399,\"element\":\"H\",\"location\":[4.412231,4.311188,3.622150]},{\"charge\":0.019399,\"element\":\"H\",\"location\":[4.321913,2.505847,3.743123]},{\"charge\":-0.077596,\"element\":\"C\",\"location\":[3.816120,3.627960,-4.486427]},{\"charge\":0.019399,\"element\":\"H\",\"location\":[3.106823,2.782543,-4.372687]},{\"charge\":0.019399,\"element\":\"H\",\"location\":[4.774945,3.253168,-4.899889]},{\"charge\":0.019399,\"element\":\"H\",\"location\":[3.997491,4.094278,-3.496269]},{\"charge\":0.019399,\"element\":\"H\",\"location\":[3.385207,4.381858,-5.176880]},{\"charge\":-0.077596,\"element\":\"C\",\"location\":[-3.904758,-2.204272,-5.165955]},{\"charge\":0.019399,\"element\":\"H\",\"location\":[-4.058498,-1.658923,-6.119751]},{\"charge\":0.019399,\"element\":\"H\",\"location\":[-4.282587,-1.589415,-4.323362]},{\"charge\":0.019399,\"element\":\"H\",\"location\":[-2.822477,-2.401952,-5.023299]},{\"charge\":0.019399,\"element\":\"H\",\"location\":[-4.455487,-3.166811,-5.197413]},{\"charge\":-0.077596,\"element\":\"C\",\"location\":[-5.878526,-3.687686,-0.475030]},{\"charge\":0.019399,\"element\":\"H\",\"location\":[-4.930809,-4.240777,-0.311654]},{\"charge\":0.019399,\"element\":\"H\",\"location\":[-6.523516,-4.257817,-1.174820]},{\"charge\":0.019399,\"element\":\"H\",\"location\":[-5.655044,-2.690615,-0.907078]},{\"charge\":0.019399,\"element\":\"H\",\"location\":[-6.404742,-3.561542,0.493453]},{\"charge\":-0.077596,\"element\":\"C\",\"location\":[-2.258845,-4.917432,5.638773]},{\"charge\":0.019399,\"element\":\"H\",\"location\":[-3.367174,-4.878870,5.608969]},{\"charge\":0.019399,\"element\":\"H\",\"location\":[-1.843474,-4.126222,4.981338]},{\"charge\":0.019399,\"element\":\"H\",\"location\":[-1.913743,-5.910791,5.285355]},{\"charge\":0.019399,\"element\":\"H\",\"location\":[-1.910989,-4.753837,6.679449]},{\"charge\":-0.077596,\"element\":\"C\",\"location\":[2.554470,7.051951,1.287055]},{\"charge\":0.019399,\"element\":\"H\",\"location\":[2.132311,6.040167,1.117219]},{\"charge\":0.019399,\"element\":\"H\",\"location\":[3.445982,6.975373,1.942883]},{\"charge\":0.019399,\"element\":\"H\",\"location\":[1.791653,7.694072,1.773419]},{\"charge\":0.019399,\"element\":\"H\",\"location\":[2.847944,7.498190,0.314678]},{\"charge\":-0.077596,\"element\":\"C\",\"location\":[-1.776369,-2.511166,-0.890471]},{\"charge\":0.019399,\"element\":\"H\",\"location\":[-2.348807,-2.213439,0.011993]},{\"charge\":0.019399,\"element\":\"H\",\"location\":[-1.005910,-1.743606,-1.109589]},{\"charge\":0.019399,\"element\":\"H\",\"location\":[-2.467037,-2.598962,-1.754201]},{\"charge\":0.019399,\"element\":\"H\",\"location\":[-1.283710,-3.488672,-0.710074]},{\"charge\":-0.077596,\"element\":\"C\",\"location\":[-3.679148,1.592269,-1.229241]},{\"charge\":0.019399,\"element\":\"H\",\"location\":[-2.849610,2.320171,-1.342351]},{\"charge\":0.019399,\"element\":\"H\",\"location\":[-4.068694,1.633867,-0.191315]},{\"charge\":0.019399,\"element\":\"H\",\"location\":[-3.305710,0.569796,-1.443376]},{\"charge\":0.019399,\"element\":\"H\",\"location\":[-4.492590,1.845254,-1.939934]},{\"charge\":-0.343687,\"element\":\"N\",\"location\":[2.230786,1.811400,-1.350670]},{\"charge\":0.114562,\"element\":\"H\",\"location\":[2.045661,2.226631,-0.411621]},{\"charge\":0.114562,\"element\":\"H\",\"location\":[1.316283,1.668348,-1.832051]},{\"charge\":0.114562,\"element\":\"H\",\"location\":[2.679044,0.879192,-1.214455]},{\"charge\":-0.343687,\"element\":\"N\",\"location\":[0.242140,-1.570788,7.537848]},{\"charge\":0.114562,\"element\":\"H\",\"location\":[0.424995,-2.597652,7.562627]},{\"charge\":0.114562,\"element\":\"H\",\"location\":[0.411051,-1.184489,8.492180]},{\"charge\":0.114562,\"element\":\"H\",\"location\":[-0.762041,-1.422215,7.296918]},{\"charge\":-0.343687,\"element\":\"N\",\"location\":[-2.663183,-0.685988,3.536209]},{\"charge\":0.114562,\"element\":\"H\",\"location\":[-2.523138,0.268672,3.933087]},{\"charge\":0.114562,\"element\":\"H\",\"location\":[-3.336878,-1.198946,4.145730]},{\"charge\":0.114562,\"element\":\"H\",\"location\":[-1.749460,-1.188949,3.561510]},{\"charge\":-0.343687,\"element\":\"N\",\"location\":[-1.106617,-5.663576,-4.133000]},{\"charge\":0.114562,\"element\":\"H\",\"location\":[-1.900714,-5.793516,-3.468902]},{\"charge\":0.114562,\"element\":\"H\",\"location\":[-0.528796,-4.861134,-3.800259]},{\"charge\":0.114562,\"element\":\"H\",\"location\":[-1.498237,-5.419917,-5.068822]},{\"charge\":-0.343687,\"element\":\"N\",\"location\":[0.340771,-1.956204,-6.954720]},{\"charge\":0.114562,\"element\":\"H\",\"location\":[-0.555160,-1.486879,-7.210731]},{\"charge\":0.114562,\"element\":\"H\",\"location\":[0.327064,-2.152477,-5.930124]},{\"charge\":0.114562,\"element\":\"H\",\"location\":[1.124591,-1.296437,-7.151784]},{\"charge\":-0.343687,\"element\":\"N\",\"location\":[-5.943153,5.096195,-0.846635]},{\"charge\":0.114562,\"element\":\"H\",\"location\":[-5.423229,5.487270,-1.662257]},{\"charge\":0.114562,\"element\":\"H\",\"location\":[-5.249194,4.710957,-0.169494]},{\"charge\":0.114562,\"element\":\"H\",\"location\":[-6.541705,4.311477,-1.184944]},{\"charge\":-0.343687,\"element\":\"N\",\"location\":[3.512735,-5.185586,-3.466749]},{\"charge\":0.114562,\"element\":\"H\",\"location\":[2.952129,-6.064597,-3.506238]},{\"charge\":0.114562,\"element\":\"H\",\"location\":[3.714005,-4.880810,-4.444046]},{\"charge\":0.114562,\"element\":\"H\",\"location\":[4.419487,-5.395808,-2.995468]},{\"charge\":-0.343687,\"element\":\"N\",\"location\":[2.857916,-4.860898,3.064439]},{\"charge\":0.114562,\"element\":\"H\",\"location\":[2.706288,-5.863977,3.308042]},{\"charge\":0.114562,\"element\":\"H\",\"location\":[3.574475,-4.470274,3.714411]},{\"charge\":0.114562,\"element\":\"H\",\"location\":[1.962511,-4.347487,3.216613]},{\"charge\":-0.343687,\"element\":\"N\",\"location\":[2.604098,-2.324541,-0.164925]},{\"charge\":0.114562,\"element\":\"H\",\"location\":[3.454086,-2.828957,0.169119]},{\"charge\":0.114562,\"element\":\"H\",\"location\":[1.784021,-2.665660,0.382449]},{\"charge\":0.114562,\"element\":\"H\",\"location\":[2.452253,-2.566600,-1.168344]},{\"charge\":-0.343687,\"element\":\"N\",\"location\":[4.125941,-0.672152,-4.671744]},{\"charge\":0.114562,\"element\":\"H\",\"location\":[4.431599,-1.257749,-3.864186]},{\"charge\":0.114562,\"element\":\"H\",\"location\":[3.924856,-1.303841,-5.477375]},{\"charge\":0.114562,\"element\":\"H\",\"location\":[4.914413,-0.042682,-4.937410]}],\"bonds\":[{\"atoms\":[97,96],\"order\":1},{\"atoms\":[99,96],\"order\":1},{\"atoms\":[96,98],\"order\":1},{\"atoms\":[51,50],\"order\":1},{\"atoms\":[118,116],\"order\":1},{\"atoms\":[26,24],\"order\":1},{\"atoms\":[24,25],\"order\":1},{\"atoms\":[54,50],\"order\":1},{\"atoms\":[49,45],\"order\":1},{\"atoms\":[50,53],\"order\":1},{\"atoms\":[50,52],\"order\":1},{\"atoms\":[95,92],\"order\":1},{\"atoms\":[119,116],\"order\":1},{\"atoms\":[47,45],\"order\":1},{\"atoms\":[116,117],\"order\":1},{\"atoms\":[45,46],\"order\":1},{\"atoms\":[45,48],\"order\":1},{\"atoms\":[106,104],\"order\":1},{\"atoms\":[92,94],\"order\":1},{\"atoms\":[92,93],\"order\":1},{\"atoms\":[8,6],\"order\":1},{\"atoms\":[5,3],\"order\":1},{\"atoms\":[105,104],\"order\":1},{\"atoms\":[104,107],\"order\":1},{\"atoms\":[6,7],\"order\":1},{\"atoms\":[3,4],\"order\":1},{\"atoms\":[79,75],\"order\":1},{\"atoms\":[82,80],\"order\":1},{\"atoms\":[73,70],\"order\":1},{\"atoms\":[101,100],\"order\":1},{\"atoms\":[78,75],\"order\":1},{\"atoms\":[80,83],\"order\":1},{\"atoms\":[80,81],\"order\":1},{\"atoms\":[76,75],\"order\":1},{\"atoms\":[75,77],\"order\":1},{\"atoms\":[103,100],\"order\":1},{\"atoms\":[57,55],\"order\":1},{\"atoms\":[115,112],\"order\":1},{\"atoms\":[72,70],\"order\":1},{\"atoms\":[29,27],\"order\":1},{\"atoms\":[58,55],\"order\":1},{\"atoms\":[28,27],\"order\":1},{\"atoms\":[70,74],\"order\":1},{\"atoms\":[70,71],\"order\":1},{\"atoms\":[1,0],\"order\":1},{\"atoms\":[100,102],\"order\":1},{\"atoms\":[10,9],\"order\":1},{\"atoms\":[55,56],\"order\":1},{\"atoms\":[55,59],\"order\":1},{\"atoms\":[0,2],\"order\":1},{\"atoms\":[112,113],\"order\":1},{\"atoms\":[112,114],\"order\":1},{\"atoms\":[9,11],\"order\":1},{\"atoms\":[69,65],\"order\":1},{\"atoms\":[20,18],\"order\":1},{\"atoms\":[66,65],\"order\":1},{\"atoms\":[12,13],\"order\":1},{\"atoms\":[12,14],\"order\":1},{\"atoms\":[65,68],\"order\":1},{\"atoms\":[65,67],\"order\":1},{\"atoms\":[18,19],\"order\":1},{\"atoms\":[16,15],\"order\":1},{\"atoms\":[42,40],\"order\":1},{\"atoms\":[21,22],\"order\":1},{\"atoms\":[21,23],\"order\":1},{\"atoms\":[41,40],\"order\":1},{\"atoms\":[32,30],\"order\":1},{\"atoms\":[15,17],\"order\":1},{\"atoms\":[31,30],\"order\":1},{\"atoms\":[33,30],\"order\":1},{\"atoms\":[40,43],\"order\":1},{\"atoms\":[40,44],\"order\":1},{\"atoms\":[108,111],\"order\":1},{\"atoms\":[108,109],\"order\":1},{\"atoms\":[108,110],\"order\":1},{\"atoms\":[30,34],\"order\":1},{\"atoms\":[88,91],\"order\":1},{\"atoms\":[88,89],\"order\":1},{\"atoms\":[88,90],\"order\":1},{\"atoms\":[62,60],\"order\":1},{\"atoms\":[63,60],\"order\":1},{\"atoms\":[61,60],\"order\":1},{\"atoms\":[60,64],\"order\":1},{\"atoms\":[39,35],\"order\":1},{\"atoms\":[38,35],\"order\":1},{\"atoms\":[35,37],\"order\":1},{\"atoms\":[35,36],\"order\":1},{\"atoms\":[87,84],\"order\":1},{\"atoms\":[84,85],\"order\":1},{\"atoms\":[84,86],\"order\":1}],\"formula\":\"C10H90N10O10\",\"molecular_weight\":510.882600,\"units\":{\"molecular_weight\":\"g / mol\"}});\n",
       "\n",
       "               $d.resizable({\n",
       "                   aspectRatio: 400 / 300,\n",
       "                   resize: function (evt, ui) {\n",
       "                       $d.imolecule.renderer.setSize(ui.size.width,\n",
       "                                                     ui.size.height);\n",
       "                   }\n",
       "               });\n",
       "           });\n",
       "           </script>"
      ],
      "text/plain": [
       "<IPython.core.display.HTML object>"
      ]
     },
     "metadata": {},
     "output_type": "display_data"
    }
   ],
   "source": [
    "from imolecule import draw\n",
    "draw(result['filename'])"
   ]
  },
  {
   "cell_type": "markdown",
   "metadata": {},
   "source": [
    "If you change your mind you can use `set_options()` method to change options.  Here we specify the Merck force fields to be used to construct 3D geometries from SMILES, and changed `packmol` parameters a bit."
   ]
  },
  {
   "cell_type": "code",
   "execution_count": 5,
   "metadata": {
    "collapsed": true
   },
   "outputs": [],
   "source": [
    "pm.set_options(opt_force_field='mmff94',tolerance=3.5,dimension=5,nloop=50)"
   ]
  },
  {
   "cell_type": "markdown",
   "metadata": {},
   "source": [
    "Now we try packing again with these new parameters.  `pack()` will throw an error when packmol fails.  Here the radius is too small and packing is not possible.  \n",
    "\n",
    "**TODO** We should in the future implement **Laszlo**'s automatic radius setting as a method.  We can also start with the heuristic radius then do trial and error until packing is successful.  "
   ]
  },
  {
   "cell_type": "code",
   "execution_count": 6,
   "metadata": {
    "collapsed": false
   },
   "outputs": [
    {
     "ename": "FailToPack",
     "evalue": "Packing failed.  Cannot fulfill tolerance constraints. Best result found in [smaller.xyz]",
     "output_type": "error",
     "traceback": [
      "\u001b[1;31m---------------------------------------------------------------------------\u001b[0m",
      "\u001b[1;31mFailToPack\u001b[0m                                Traceback (most recent call last)",
      "\u001b[1;32m<ipython-input-6-4dbdbb943263>\u001b[0m in \u001b[0;36m<module>\u001b[1;34m()\u001b[0m\n\u001b[1;32m----> 1\u001b[1;33m \u001b[0mresult2\u001b[0m\u001b[1;33m=\u001b[0m\u001b[0mpm\u001b[0m\u001b[1;33m.\u001b[0m\u001b[0mpack\u001b[0m\u001b[1;33m(\u001b[0m\u001b[0moutput\u001b[0m\u001b[1;33m=\u001b[0m\u001b[1;34m\"smaller.xyz\"\u001b[0m\u001b[1;33m)\u001b[0m\u001b[1;33m\u001b[0m\u001b[0m\n\u001b[0m",
      "\u001b[1;32m/home/stanford/toddmtz/users/zhuxl/nanoreactor-dev/pypackmol/src/pypackmol.pyc\u001b[0m in \u001b[0;36mpack\u001b[1;34m(self, output)\u001b[0m\n\u001b[0;32m    234\u001b[0m         \u001b[1;32mif\u001b[0m \u001b[1;34m\"STOP\"\u001b[0m \u001b[1;32min\u001b[0m \u001b[0mself\u001b[0m\u001b[1;33m.\u001b[0m\u001b[0m_output_stash\u001b[0m \u001b[1;33m:\u001b[0m\u001b[1;33m\u001b[0m\u001b[0m\n\u001b[0;32m    235\u001b[0m             raise FailToPack((\"Packing failed.  Cannot fulfill tolerance constraints. \" +\n\u001b[1;32m--> 236\u001b[1;33m                            \"Best result found in [{}]\").format(self._options[\"output\"]))\n\u001b[0m\u001b[0;32m    237\u001b[0m         \u001b[0mself\u001b[0m\u001b[1;33m.\u001b[0m\u001b[0m_last_result\u001b[0m\u001b[1;33m=\u001b[0m\u001b[1;33m{\u001b[0m\u001b[1;34m\"filename\"\u001b[0m\u001b[1;33m:\u001b[0m\u001b[0mself\u001b[0m\u001b[1;33m.\u001b[0m\u001b[0m_options\u001b[0m\u001b[1;33m[\u001b[0m\u001b[1;34m\"output\"\u001b[0m\u001b[1;33m]\u001b[0m\u001b[1;33m,\u001b[0m\u001b[1;34m\"packmol output\"\u001b[0m\u001b[1;33m:\u001b[0m\u001b[0mself\u001b[0m\u001b[1;33m.\u001b[0m\u001b[0m_output_stash\u001b[0m\u001b[1;33m}\u001b[0m\u001b[1;33m\u001b[0m\u001b[0m\n\u001b[0;32m    238\u001b[0m         \u001b[1;32mif\u001b[0m \u001b[0m_has_openbabel\u001b[0m \u001b[1;33m:\u001b[0m\u001b[1;33m\u001b[0m\u001b[0m\n",
      "\u001b[1;31mFailToPack\u001b[0m: Packing failed.  Cannot fulfill tolerance constraints. Best result found in [smaller.xyz]"
     ]
    }
   ],
   "source": [
    "result2=pm.pack(output=\"smaller.xyz\")"
   ]
  },
  {
   "cell_type": "markdown",
   "metadata": {},
   "source": [
    "The `autosize()` method can be used to automatically determine the minimum radius of the packing area.  It simply perform a series of trial `packmol` runs with increasing radius until packing is successful.  This may take a minute for larger systems."
   ]
  },
  {
   "cell_type": "code",
   "execution_count": 7,
   "metadata": {
    "collapsed": false
   },
   "outputs": [
    {
     "name": "stdout",
     "output_type": "stream",
     "text": [
      "Packing successful with radius 6.0\n"
     ]
    }
   ],
   "source": [
    "pm.clear()\n",
    "pm.set_options(output=\"furfural.xyz\",nloops=30,opt_force_field='uff')\n",
    "pm.add_structure(\"o1cccc1C(=O)[O-]\",2)\n",
    "pm.add_structure(\"oc([O-])[O-]\",6)\n",
    "pm.add_structure(\"O=C=O\",5)\n",
    "pm.add_structure(\"[Cs+]\",12)\n",
    "radius=pm.autosize(min_radius=5,increment=0.1)"
   ]
  },
  {
   "cell_type": "code",
   "execution_count": 8,
   "metadata": {
    "collapsed": false
   },
   "outputs": [
    {
     "data": {
      "text/html": [
       "<div id=\"molecule_29d7be61-a04f-4ebd-b6b9-2524a3253d4c\"></div>\n",
       "           <script type=\"text/javascript\">\n",
       "           require.config({baseUrl: '/',\n",
       "                           paths: {imolecule: ['nbextensions/imolecule.min', 'https://rawgit.com/patrickfuller/imolecule/master/imolecule/js/build/imolecule.min']}});\n",
       "           require(['imolecule'], function () {\n",
       "               var $d = $('#molecule_29d7be61-a04f-4ebd-b6b9-2524a3253d4c');\n",
       "               $d.width(400); $d.height(300);\n",
       "               $d.imolecule = jQuery.extend({}, imolecule);\n",
       "               $d.imolecule.create($d, {drawingType: 'ball and stick',\n",
       "                                        cameraType: 'perspective',\n",
       "                                        shader: 'lambert',\n",
       "                                        showSave: false});\n",
       "               $d.imolecule.addElements({});\n",
       "               $d.imolecule.draw({\"atoms\":[{\"element\":\"O\",\"location\":[1.227326,-1.114468,-4.941906]},{\"element\":\"C\",\"location\":[1.873000,0.028637,-5.010400]},{\"element\":\"C\",\"location\":[3.107154,-0.098437,-4.406177]},{\"element\":\"C\",\"location\":[3.182367,-1.397855,-3.958654]},{\"element\":\"C\",\"location\":[1.986233,-1.987164,-4.317741]},{\"element\":\"C\",\"location\":[1.590437,-3.378637,-4.056151]},{\"element\":\"O\",\"location\":[2.345968,-4.137363,-3.469975]},{\"element\":\"O\",\"location\":[0.386768,-3.822011,-4.464854]},{\"element\":\"H\",\"location\":[1.482332,0.924664,-5.473786]},{\"element\":\"H\",\"location\":[3.863175,0.668534,-4.304649]},{\"element\":\"H\",\"location\":[4.010187,-1.857155,-3.434428]},{\"element\":\"O\",\"location\":[-3.633306,1.715178,-3.320402]},{\"element\":\"C\",\"location\":[-2.671951,1.938823,-4.188765]},{\"element\":\"C\",\"location\":[-2.006283,3.100737,-3.855284]},{\"element\":\"C\",\"location\":[-2.620417,3.581854,-2.721358]},{\"element\":\"C\",\"location\":[-3.626694,2.682040,-2.430316]},{\"element\":\"C\",\"location\":[-4.566106,2.764344,-1.302480]},{\"element\":\"O\",\"location\":[-4.503625,3.691757,-0.511218]},{\"element\":\"O\",\"location\":[-5.502980,1.811521,-1.138672]},{\"element\":\"H\",\"location\":[-2.448888,1.299163,-5.032146]},{\"element\":\"H\",\"location\":[-1.170307,3.544154,-4.379349]},{\"element\":\"H\",\"location\":[-2.363514,4.480043,-2.175178]},{\"element\":\"O\",\"location\":[0.179761,-5.444788,2.986563]},{\"element\":\"C\",\"location\":[-0.844293,-4.950519,3.427104]},{\"element\":\"O\",\"location\":[-0.804836,-4.209040,4.549252]},{\"element\":\"O\",\"location\":[-2.013713,-5.146609,2.791061]},{\"element\":\"O\",\"location\":[-2.739079,2.565369,4.875134]},{\"element\":\"C\",\"location\":[-3.664401,2.325938,4.117824]},{\"element\":\"O\",\"location\":[-4.320341,1.154411,4.206320]},{\"element\":\"O\",\"location\":[-4.029483,3.233269,3.193698]},{\"element\":\"O\",\"location\":[3.020049,2.171990,-0.239906]},{\"element\":\"C\",\"location\":[3.401761,3.325621,-0.342363]},{\"element\":\"O\",\"location\":[2.520629,4.337419,-0.240216]},{\"element\":\"O\",\"location\":[4.704081,3.586765,-0.557564]},{\"element\":\"O\",\"location\":[0.943431,-0.492192,-1.330703]},{\"element\":\"C\",\"location\":[-0.063633,0.105910,-1.670057]},{\"element\":\"O\",\"location\":[-1.037655,-0.540467,-2.336423]},{\"element\":\"O\",\"location\":[-0.200830,1.412243,-1.378143]},{\"element\":\"O\",\"location\":[-0.643780,3.726183,1.209863]},{\"element\":\"C\",\"location\":[-0.845788,4.896538,1.486500]},{\"element\":\"O\",\"location\":[-2.067405,5.430028,1.303187]},{\"element\":\"O\",\"location\":[0.152928,5.654443,1.975059]},{\"element\":\"O\",\"location\":[1.824769,-0.955964,2.306740]},{\"element\":\"C\",\"location\":[0.677176,-0.584803,2.486557]},{\"element\":\"O\",\"location\":[-0.336805,-1.464445,2.393625]},{\"element\":\"O\",\"location\":[0.424876,0.704386,2.777904]},{\"element\":\"O\",\"location\":[-4.495463,-4.058666,0.576179]},{\"element\":\"C\",\"location\":[-4.027125,-3.103525,0.028957]},{\"element\":\"O\",\"location\":[-3.558783,-2.148377,-0.518269]},{\"element\":\"O\",\"location\":[-0.317695,-3.903184,-0.115987]},{\"element\":\"C\",\"location\":[0.157973,-4.934304,-0.492307]},{\"element\":\"O\",\"location\":[0.633646,-5.965433,-0.868629]},{\"element\":\"O\",\"location\":[-0.188209,0.583660,6.221590]},{\"element\":\"C\",\"location\":[-1.025859,-0.252270,6.046516]},{\"element\":\"O\",\"location\":[-1.863515,-1.088206,5.871441]},{\"element\":\"O\",\"location\":[5.422968,-2.737400,0.180984]},{\"element\":\"C\",\"location\":[4.253972,-2.885261,-0.025587]},{\"element\":\"O\",\"location\":[3.084966,-3.033124,-0.232161]},{\"element\":\"O\",\"location\":[5.622124,1.158938,2.008491]},{\"element\":\"C\",\"location\":[5.421049,0.128242,2.581482]},{\"element\":\"O\",\"location\":[5.219974,-0.902464,3.154479]},{\"element\":\"Cs\",\"location\":[0.564923,3.719342,4.862093]},{\"element\":\"Cs\",\"location\":[-2.629261,0.826831,1.073087]},{\"element\":\"Cs\",\"location\":[-4.199179,-2.581606,3.735179]},{\"element\":\"Cs\",\"location\":[5.785593,0.365684,-1.396395]},{\"element\":\"Cs\",\"location\":[1.855077,-2.184693,5.583568]},{\"element\":\"Cs\",\"location\":[3.599780,3.789933,3.120798]},{\"element\":\"Cs\",\"location\":[-2.527552,-4.665342,-2.720401]},{\"element\":\"Cs\",\"location\":[3.142074,1.051908,5.252286]},{\"element\":\"Cs\",\"location\":[-5.857392,-0.454253,1.504897]},{\"element\":\"Cs\",\"location\":[2.249036,3.838793,-3.693574]},{\"element\":\"Cs\",\"location\":[3.421703,-4.134660,3.135676]},{\"element\":\"Cs\",\"location\":[-3.923106,-1.710583,-3.971530]}],\"bonds\":[{\"atoms\":[8,1],\"order\":1},{\"atoms\":[19,12],\"order\":1},{\"atoms\":[1,0],\"order\":1},{\"atoms\":[1,2],\"order\":2},{\"atoms\":[0,4],\"order\":1},{\"atoms\":[7,5],\"order\":2},{\"atoms\":[2,9],\"order\":1},{\"atoms\":[2,3],\"order\":1},{\"atoms\":[20,13],\"order\":1},{\"atoms\":[4,5],\"order\":1},{\"atoms\":[4,3],\"order\":2},{\"atoms\":[12,13],\"order\":2},{\"atoms\":[12,11],\"order\":1},{\"atoms\":[5,6],\"order\":1},{\"atoms\":[72,67],\"order\":1},{\"atoms\":[3,10],\"order\":1},{\"atoms\":[13,14],\"order\":1},{\"atoms\":[70,32],\"order\":1},{\"atoms\":[11,15],\"order\":1},{\"atoms\":[14,15],\"order\":2},{\"atoms\":[14,21],\"order\":1},{\"atoms\":[15,16],\"order\":1},{\"atoms\":[36,35],\"order\":2},{\"atoms\":[35,37],\"order\":1},{\"atoms\":[35,34],\"order\":1},{\"atoms\":[64,30],\"order\":1},{\"atoms\":[16,18],\"order\":2},{\"atoms\":[16,17],\"order\":1},{\"atoms\":[51,50],\"order\":2},{\"atoms\":[33,31],\"order\":2},{\"atoms\":[48,47],\"order\":1},{\"atoms\":[48,69],\"order\":1},{\"atoms\":[50,49],\"order\":2},{\"atoms\":[31,32],\"order\":1},{\"atoms\":[31,30],\"order\":1},{\"atoms\":[57,56],\"order\":2},{\"atoms\":[56,55],\"order\":1},{\"atoms\":[56,71],\"order\":1},{\"atoms\":[47,46],\"order\":1},{\"atoms\":[38,39],\"order\":2},{\"atoms\":[40,39],\"order\":1},{\"atoms\":[39,41],\"order\":1},{\"atoms\":[58,59],\"order\":2},{\"atoms\":[42,43],\"order\":2},{\"atoms\":[44,43],\"order\":1},{\"atoms\":[43,45],\"order\":1},{\"atoms\":[59,60],\"order\":2},{\"atoms\":[25,23],\"order\":1},{\"atoms\":[25,63],\"order\":1},{\"atoms\":[22,23],\"order\":2},{\"atoms\":[66,61],\"order\":1},{\"atoms\":[29,27],\"order\":2},{\"atoms\":[23,24],\"order\":1},{\"atoms\":[27,28],\"order\":1},{\"atoms\":[27,26],\"order\":1},{\"atoms\":[68,65],\"order\":1},{\"atoms\":[54,53],\"order\":2},{\"atoms\":[53,52],\"order\":2}],\"formula\":\"C21H6Cs12O34\",\"molecular_weight\":2397.117340,\"units\":{\"molecular_weight\":\"g / mol\"}});\n",
       "\n",
       "               $d.resizable({\n",
       "                   aspectRatio: 400 / 300,\n",
       "                   resize: function (evt, ui) {\n",
       "                       $d.imolecule.renderer.setSize(ui.size.width,\n",
       "                                                     ui.size.height);\n",
       "                   }\n",
       "               });\n",
       "           });\n",
       "           </script>"
      ],
      "text/plain": [
       "<IPython.core.display.HTML object>"
      ]
     },
     "metadata": {},
     "output_type": "display_data"
    }
   ],
   "source": [
    "draw(pm.last_result()['filename'])"
   ]
  },
  {
   "cell_type": "markdown",
   "metadata": {},
   "source": [
    "There are some limited documentations and they can be accessed through the `help` command if you are in **IPython** or interactive shell.  "
   ]
  },
  {
   "cell_type": "code",
   "execution_count": 9,
   "metadata": {
    "collapsed": false
   },
   "outputs": [
    {
     "name": "stdout",
     "output_type": "stream",
     "text": [
      "Help on module pypackmol:\n",
      "\n",
      "NAME\n",
      "    pypackmol\n",
      "\n",
      "FILE\n",
      "    /home/stanford/toddmtz/users/zhuxl/nanoreactor-dev/pypackmol/src/pypackmol.py\n",
      "\n",
      "DESCRIPTION\n",
      "    PyPackmol is a Python wrapper for packmol program that provide simple packing of molecules. \n",
      "    Note that packmol needs to be installed separately.  \n",
      "    Molecules can be given in terms of input files (xyz, etc), or SMILES strings.  \n",
      "    Open Babel is required to do the conversion if the input format is not xyz.\n",
      "\n",
      "CLASSES\n",
      "    __builtin__.object\n",
      "        Packmol\n",
      "    exceptions.Exception(exceptions.BaseException)\n",
      "        FailToPack\n",
      "    \n",
      "    class FailToPack(exceptions.Exception)\n",
      "     |  #Exception class for packing failure\n",
      "     |  \n",
      "     |  Method resolution order:\n",
      "     |      FailToPack\n",
      "     |      exceptions.Exception\n",
      "     |      exceptions.BaseException\n",
      "     |      __builtin__.object\n",
      "     |  \n",
      "     |  Data descriptors defined here:\n",
      "     |  \n",
      "     |  __weakref__\n",
      "     |      list of weak references to the object (if defined)\n",
      "     |  \n",
      "     |  ----------------------------------------------------------------------\n",
      "     |  Methods inherited from exceptions.Exception:\n",
      "     |  \n",
      "     |  __init__(...)\n",
      "     |      x.__init__(...) initializes x; see help(type(x)) for signature\n",
      "     |  \n",
      "     |  ----------------------------------------------------------------------\n",
      "     |  Data and other attributes inherited from exceptions.Exception:\n",
      "     |  \n",
      "     |  __new__ = <built-in method __new__ of type object>\n",
      "     |      T.__new__(S, ...) -> a new object with type S, a subtype of T\n",
      "     |  \n",
      "     |  ----------------------------------------------------------------------\n",
      "     |  Methods inherited from exceptions.BaseException:\n",
      "     |  \n",
      "     |  __delattr__(...)\n",
      "     |      x.__delattr__('name') <==> del x.name\n",
      "     |  \n",
      "     |  __getattribute__(...)\n",
      "     |      x.__getattribute__('name') <==> x.name\n",
      "     |  \n",
      "     |  __getitem__(...)\n",
      "     |      x.__getitem__(y) <==> x[y]\n",
      "     |  \n",
      "     |  __getslice__(...)\n",
      "     |      x.__getslice__(i, j) <==> x[i:j]\n",
      "     |      \n",
      "     |      Use of negative indices is not supported.\n",
      "     |  \n",
      "     |  __reduce__(...)\n",
      "     |  \n",
      "     |  __repr__(...)\n",
      "     |      x.__repr__() <==> repr(x)\n",
      "     |  \n",
      "     |  __setattr__(...)\n",
      "     |      x.__setattr__('name', value) <==> x.name = value\n",
      "     |  \n",
      "     |  __setstate__(...)\n",
      "     |  \n",
      "     |  __str__(...)\n",
      "     |      x.__str__() <==> str(x)\n",
      "     |  \n",
      "     |  __unicode__(...)\n",
      "     |  \n",
      "     |  ----------------------------------------------------------------------\n",
      "     |  Data descriptors inherited from exceptions.BaseException:\n",
      "     |  \n",
      "     |  __dict__\n",
      "     |  \n",
      "     |  args\n",
      "     |  \n",
      "     |  message\n",
      "    \n",
      "    class Packmol(__builtin__.object)\n",
      "     |  Wrapper class for the packmol molecule packer program\n",
      "     |  \n",
      "     |  Methods defined here:\n",
      "     |  \n",
      "     |  __init__(self, **kwargs)\n",
      "     |      Construct packmol run by providing simulation parameters.\n",
      "     |      \n",
      "     |      There is no arguments, but this constructor accepts a keyword list which contains\n",
      "     |      packmol related options, including the following:\n",
      "     |          command_line: Packmol command line.  Default is ``packmol``\n",
      "     |          dimension: Radius of the sphere.  Default is 10\n",
      "     |          tolerance: Minimum distance between atoms in different molecules.  Default is 3\n",
      "     |          output: Filename where the packed geometries are saved. Default is \"packed.xyz\"\n",
      "     |          seed: Seed for the random number generator.  When set to None, which is the \n",
      "     |              default, current system timer will be used.\n",
      "     |          nloop: Maximum number of packmol optimization steps.  Default is 100.\n",
      "     |          opt_force_field: Force field used to construct 3D structure from SMILES strings.\n",
      "     |          \n",
      "     |      Any keyword not recognized by the module will still be dumped into packmol input file.\n",
      "     |  \n",
      "     |  add_structure(self, input_data, count=1, input_format='auto', **kwargs)\n",
      "     |      Add one or more structure group to be packed by packmol.\n",
      "     |      \n",
      "     |      Args:\n",
      "     |          input_data: molecular structure of the new group(s).  A \n",
      "     |              string that contains filename that contains this \n",
      "     |              structure, or a SMILES string.  \n",
      "     |          input_format: Format of `input_data`.  Can be any OpenBabel recognized file\n",
      "     |              format or `smi` for a SMILES.  When set to `auto`, which is the default,\n",
      "     |              the format will be determined from filename, or set to SMILES if it does\n",
      "     |              not correspond to any existing file.\n",
      "     |          count: Number of this structure to be packed.  Default is 1.\n",
      "     |      Any other unrecognized keyword input will be dumped into the structure block of \n",
      "     |      packmol input file.\n",
      "     |  \n",
      "     |  autosize(self, min_radius, max_radius=20, increment=0.2, report=True)\n",
      "     |      Automatically determine the dimension of the sphere.  \n",
      "     |      \n",
      "     |      The method repeatedly runs packmol and increase the radius slightly every time until \n",
      "     |      the system can be successful packed.\n",
      "     |      \n",
      "     |      Args:\n",
      "     |          min_radius:  Initial radius to start the test from.\n",
      "     |          increment: The amount of radius to be increased every time packmol fails.\n",
      "     |          \n",
      "     |      Returns:\n",
      "     |          The minimum radius that the system can be packed.\n",
      "     |  \n",
      "     |  clear(self)\n",
      "     |      Clean the molecule table.\n",
      "     |  \n",
      "     |  last_result(self)\n",
      "     |      Get the result from the last packing run\n",
      "     |  \n",
      "     |  pack(self, output=None)\n",
      "     |      Perform packmol runs.  \n",
      "     |      \n",
      "     |      Construct input file then creates a subprocess to run packmol.  \n",
      "     |      \n",
      "     |      Args:\n",
      "     |          output: Specify the filename of the packed molecule geometry file.  \n",
      "     |          \n",
      "     |      Return is a dict that contains the following fields:\n",
      "     |          \"filename\" :  Filename of the packed geoemtry file.\n",
      "     |          \"packmol output\" : Print out from packmol run.\n",
      "     |  \n",
      "     |  set_options(self, **kwargs)\n",
      "     |      Update packmol option values.  \n",
      "     |      \n",
      "     |      Use keyword list to change the value of packmol options.\n",
      "     |  \n",
      "     |  ----------------------------------------------------------------------\n",
      "     |  Data descriptors defined here:\n",
      "     |  \n",
      "     |  __dict__\n",
      "     |      dictionary for instance variables (if defined)\n",
      "     |  \n",
      "     |  __weakref__\n",
      "     |      list of weak references to the object (if defined)\n",
      "     |  \n",
      "     |  ----------------------------------------------------------------------\n",
      "     |  Data and other attributes defined here:\n",
      "     |  \n",
      "     |  NONPACKMOL_OPTIONS = ['command_line', 'region_type', 'dimension', 'opt...\n",
      "\n",
      "FUNCTIONS\n",
      "    convert_to_xyz(input_data, input_format='auto', force_field='uff')\n",
      "        Convert input format unrecognized by packmol into xyz files.\n",
      "        \n",
      "        If the input molecular structure data is in a xyz file, the function \n",
      "        simply transfer the data to a temp file. Otherwise, the function use \n",
      "        OpenBabel to convert into xyz format, then save this to a temp file.\n",
      "        \n",
      "        Args:\n",
      "            input_data: Filename or SMILES string to be converted\n",
      "            input_format: Format of the input.  When the value is \"auto\" which is \n",
      "                the default, the function will try to determine the type of input \n",
      "                file. In such event, if the input string does not correspond to an \n",
      "                existing file that can be opened, the string is instead taken to \n",
      "                be a SMILES string. \n",
      "            force_field: The force-field used by OpenBabel during constructions\n",
      "                of 3D structure if only 2D structures are available (i.e., SMILES)\n",
      "        \n",
      "        Returns:\n",
      "            A named temporary file containing the molecular structure in xyz format.  \n",
      "            Note that since this is a temp file, it will automatically be deleted \n",
      "            when the file object is unreferenced or destroyed.\n",
      "\n",
      "DATA\n",
      "    __author__ = 'Xiaolei Zhu'\n",
      "    __copyright__ = 'Martinez Group, Stanford University, CA, USA, Planet ...\n",
      "    __email__ = 'virtualzx@gmail.com'\n",
      "    __maintainer__ = 'Xiaolei Zhu'\n",
      "    __status__ = 'Prototype'\n",
      "    __title__ = 'pypackmol'\n",
      "    __version__ = '0.1.0'\n",
      "\n",
      "VERSION\n",
      "    0.1.0\n",
      "\n",
      "AUTHOR\n",
      "    Xiaolei Zhu\n",
      "\n",
      "\n"
     ]
    }
   ],
   "source": [
    "help(pypackmol)"
   ]
  },
  {
   "cell_type": "code",
   "execution_count": null,
   "metadata": {
    "collapsed": true
   },
   "outputs": [],
   "source": []
  }
 ],
 "metadata": {
  "kernelspec": {
   "display_name": "Python 2",
   "language": "python",
   "name": "python2"
  },
  "language_info": {
   "codemirror_mode": {
    "name": "ipython",
    "version": 2
   },
   "file_extension": ".py",
   "mimetype": "text/x-python",
   "name": "python",
   "nbconvert_exporter": "python",
   "pygments_lexer": "ipython2",
   "version": "2.7.11"
  }
 },
 "nbformat": 4,
 "nbformat_minor": 0
}
