{
 "cells": [
  {
   "cell_type": "markdown",
   "metadata": {},
   "source": [
    "pypackmol examples\n",
    "----\n",
    "The pypackmol module is contained inside pypackmol.py in the nanoreactor directory"
   ]
  },
  {
   "cell_type": "code",
   "execution_count": 1,
   "metadata": {
    "collapsed": false
   },
   "outputs": [],
   "source": [
    "import pypackmol"
   ]
  },
  {
   "cell_type": "markdown",
   "metadata": {
    "collapsed": false
   },
   "source": [
    "The **Packmol** class represent a packmol run.  Input files are tempfiles hidden from the user so for all in tent and purposes this behaves like a normal python component.  Argument `dimension` specifies the radius of the sphere.  You can also add any `packmol` options here in the argument.\n",
    "\n",
    "By default the `packmol` command line is just\n",
    "\n",
    "    $ packmol\n",
    "\n",
    "So you will have to put configure your PATH variable.  Alternatively you can use `command_line` argument to specify the command line.  \n",
    "\n",
    "Here we use SMILES strings to add 10 water, 10 methane and 10 ammonia molecules to the system."
   ]
  },
  {
   "cell_type": "code",
   "execution_count": 2,
   "metadata": {
    "collapsed": false
   },
   "outputs": [],
   "source": [
    "pm=pypackmol.Packmol(dimension=8)\n",
    "pm.add_structure('O',count=10)\n",
    "pm.add_structure('C',count=10)\n",
    "pm.add_structure('N',count=10)"
   ]
  },
  {
   "cell_type": "markdown",
   "metadata": {},
   "source": [
    "The `pack()` function calls packmol.  By default the packed geometry is saved in `\"packed.xyz\"`, but you can specify other path through the `output` argument.  The return is a `dict` with two fields.  *\"filename\"* contains the name of the packed geometry file, and *\"packmol output\"* contains the packmol printout."
   ]
  },
  {
   "cell_type": "code",
   "execution_count": 3,
   "metadata": {
    "collapsed": false
   },
   "outputs": [],
   "source": [
    "result=pm.pack(output=\"eight.xyz\")"
   ]
  },
  {
   "cell_type": "markdown",
   "metadata": {},
   "source": [
    "The default distance threshold is `tolerance=3.0` so the molecules are fairly separated.  SMILES are optimized to 3D structures with *Universal Force Field*.  *Merck* force fields are probably better but it cannot treat atoms like `Cs` so it is not set as default."
   ]
  },
  {
   "cell_type": "code",
   "execution_count": 4,
   "metadata": {
    "collapsed": false
   },
   "outputs": [
    {
     "data": {
      "text/html": [
       "<div id=\"molecule_48444405-da28-478e-af81-c7db80042e0d\"></div>\n",
       "           <script type=\"text/javascript\">\n",
       "           require.config({baseUrl: '/',\n",
       "                           paths: {imolecule: ['nbextensions/imolecule.min', 'https://rawgit.com/patrickfuller/imolecule/master/imolecule/js/build/imolecule.min']}});\n",
       "           require(['imolecule'], function () {\n",
       "               var $d = $('#molecule_48444405-da28-478e-af81-c7db80042e0d');\n",
       "               $d.width(400); $d.height(300);\n",
       "               $d.imolecule = jQuery.extend({}, imolecule);\n",
       "               $d.imolecule.create($d, {drawingType: 'ball and stick',\n",
       "                                        cameraType: 'perspective',\n",
       "                                        shader: 'lambert',\n",
       "                                        showSave: false});\n",
       "               $d.imolecule.addElements({});\n",
       "               $d.imolecule.draw({\"atoms\":[{\"charge\":-0.410466,\"element\":\"O\",\"location\":[-2.581405,-6.123211,3.402874]},{\"charge\":0.205233,\"element\":\"H\",\"location\":[-1.799746,-5.528414,3.277112]},{\"charge\":0.205233,\"element\":\"H\",\"location\":[-3.232820,-5.573620,3.907063]},{\"charge\":-0.410466,\"element\":\"O\",\"location\":[6.856921,-4.784452,0.738087]},{\"charge\":0.205233,\"element\":\"H\",\"location\":[6.123665,-5.449934,0.745852]},{\"charge\":0.205233,\"element\":\"H\",\"location\":[6.402995,-3.913612,0.865314]},{\"charge\":-0.410466,\"element\":\"O\",\"location\":[-4.150492,1.205814,-3.092248]},{\"charge\":0.205233,\"element\":\"H\",\"location\":[-5.060370,1.571648,-2.954844]},{\"charge\":0.205233,\"element\":\"H\",\"location\":[-3.978336,0.659092,-2.284749]},{\"charge\":-0.410466,\"element\":\"O\",\"location\":[0.295374,0.803334,-2.304597]},{\"charge\":0.205233,\"element\":\"H\",\"location\":[0.556445,1.749565,-2.173914]},{\"charge\":0.205233,\"element\":\"H\",\"location\":[-0.678995,0.836472,-2.478104]},{\"charge\":-0.410466,\"element\":\"O\",\"location\":[4.937537,0.086236,0.764041]},{\"charge\":0.205233,\"element\":\"H\",\"location\":[5.427003,-0.700943,0.415669]},{\"charge\":0.205233,\"element\":\"H\",\"location\":[5.616641,0.594491,1.275011]},{\"charge\":-0.410466,\"element\":\"O\",\"location\":[3.907593,-0.849697,5.423601]},{\"charge\":0.205233,\"element\":\"H\",\"location\":[3.127951,-0.239171,5.426297]},{\"charge\":0.205233,\"element\":\"H\",\"location\":[3.647942,-1.580990,4.808466]},{\"charge\":-0.410466,\"element\":\"O\",\"location\":[1.361717,-0.072047,2.243911]},{\"charge\":0.205233,\"element\":\"H\",\"location\":[1.780554,0.562152,1.609122]},{\"charge\":0.205233,\"element\":\"H\",\"location\":[1.834566,-0.927992,2.087803]},{\"charge\":-0.410466,\"element\":\"O\",\"location\":[-0.822551,0.673826,6.947826]},{\"charge\":0.205233,\"element\":\"H\",\"location\":[-0.794241,0.522811,7.926082]},{\"charge\":0.205233,\"element\":\"H\",\"location\":[0.031120,0.299028,6.614105]},{\"charge\":-0.410466,\"element\":\"O\",\"location\":[6.102394,3.823464,4.829952]},{\"charge\":0.205233,\"element\":\"H\",\"location\":[5.724069,4.578986,5.346330]},{\"charge\":0.205233,\"element\":\"H\",\"location\":[5.455384,3.085223,4.960243]},{\"charge\":-0.410466,\"element\":\"O\",\"location\":[-6.361213,-2.451608,3.273205]},{\"charge\":0.205233,\"element\":\"H\",\"location\":[-6.113528,-1.497018,3.362655]},{\"charge\":0.205233,\"element\":\"H\",\"location\":[-5.495361,-2.927265,3.205023]},{\"charge\":-0.077596,\"element\":\"C\",\"location\":[-1.382381,-2.961192,-0.810392]},{\"charge\":0.019399,\"element\":\"H\",\"location\":[-0.560191,-2.763919,-0.092146]},{\"charge\":0.019399,\"element\":\"H\",\"location\":[-1.930587,-2.018243,-1.013036]},{\"charge\":0.019399,\"element\":\"H\",\"location\":[-2.079262,-3.708621,-0.378563]},{\"charge\":0.019399,\"element\":\"H\",\"location\":[-0.959455,-3.353997,-1.757822]},{\"charge\":-0.077596,\"element\":\"C\",\"location\":[-6.020731,2.058860,1.305495]},{\"charge\":0.019399,\"element\":\"H\",\"location\":[-5.433911,1.441455,2.016300]},{\"charge\":0.019399,\"element\":\"H\",\"location\":[-5.741390,1.791675,0.265626]},{\"charge\":0.019399,\"element\":\"H\",\"location\":[-5.804385,3.132503,1.482281]},{\"charge\":0.019399,\"element\":\"H\",\"location\":[-7.103248,1.869793,1.457801]},{\"charge\":-0.077596,\"element\":\"C\",\"location\":[-5.768566,-2.632956,-0.816280]},{\"charge\":0.019399,\"element\":\"H\",\"location\":[-5.368956,-2.306707,-1.798454]},{\"charge\":0.019399,\"element\":\"H\",\"location\":[-6.750325,-2.148416,-0.637066]},{\"charge\":0.019399,\"element\":\"H\",\"location\":[-5.060336,-2.341538,-0.013625]},{\"charge\":0.019399,\"element\":\"H\",\"location\":[-5.894630,-3.735178,-0.815998]},{\"charge\":-0.077596,\"element\":\"C\",\"location\":[-0.718338,-3.245232,7.039930]},{\"charge\":0.019399,\"element\":\"H\",\"location\":[-1.512204,-2.679356,7.569411]},{\"charge\":0.019399,\"element\":\"H\",\"location\":[-0.632209,-2.874396,5.997907]},{\"charge\":0.019399,\"element\":\"H\",\"location\":[-0.978048,-4.323743,7.028357]},{\"charge\":0.019399,\"element\":\"H\",\"location\":[0.249108,-3.103424,7.564071]},{\"charge\":-0.077596,\"element\":\"C\",\"location\":[-2.070409,2.286238,0.589085]},{\"charge\":0.019399,\"element\":\"H\",\"location\":[-0.968928,2.246076,0.715249]},{\"charge\":0.019399,\"element\":\"H\",\"location\":[-2.480583,1.255459,0.590211]},{\"charge\":0.019399,\"element\":\"H\",\"location\":[-2.314572,2.780356,-0.373723]},{\"charge\":0.019399,\"element\":\"H\",\"location\":[-2.517534,2.863078,1.424621]},{\"charge\":-0.077596,\"element\":\"C\",\"location\":[-3.075794,-1.313804,-5.384352]},{\"charge\":0.019399,\"element\":\"H\",\"location\":[-4.038348,-1.558324,-4.889891]},{\"charge\":0.019399,\"element\":\"H\",\"location\":[-2.315455,-1.070985,-4.613851]},{\"charge\":0.019399,\"element\":\"H\",\"location\":[-3.215497,-0.440529,-6.054159]},{\"charge\":0.019399,\"element\":\"H\",\"location\":[-2.733900,-2.185399,-5.979512]},{\"charge\":-0.077596,\"element\":\"C\",\"location\":[0.694695,-3.812266,-5.334578]},{\"charge\":0.019399,\"element\":\"H\",\"location\":[1.306256,-4.517680,-4.735266]},{\"charge\":0.019399,\"element\":\"H\",\"location\":[1.270939,-3.487890,-6.225348]},{\"charge\":0.019399,\"element\":\"H\",\"location\":[0.439547,-2.926912,-4.716663]},{\"charge\":0.019399,\"element\":\"H\",\"location\":[-0.237970,-4.316605,-5.661018]},{\"charge\":-0.077596,\"element\":\"C\",\"location\":[4.221991,2.255230,-5.088997]},{\"charge\":0.019399,\"element\":\"H\",\"location\":[4.175167,3.023343,-5.888122]},{\"charge\":0.019399,\"element\":\"H\",\"location\":[3.229097,2.167254,-4.601996]},{\"charge\":0.019399,\"element\":\"H\",\"location\":[4.978989,2.552349,-4.334382]},{\"charge\":0.019399,\"element\":\"H\",\"location\":[4.504723,1.277976,-5.531514]},{\"charge\":-0.077596,\"element\":\"C\",\"location\":[-1.377630,3.581784,-4.698047]},{\"charge\":0.019399,\"element\":\"H\",\"location\":[-0.281073,3.510385,-4.850547]},{\"charge\":0.019399,\"element\":\"H\",\"location\":[-1.785055,4.403515,-5.322155]},{\"charge\":0.019399,\"element\":\"H\",\"location\":[-1.589580,3.789344,-3.629045]},{\"charge\":0.019399,\"element\":\"H\",\"location\":[-1.854793,2.623867,-4.990443]},{\"charge\":-0.077596,\"element\":\"C\",\"location\":[0.146820,5.807444,0.121863]},{\"charge\":0.019399,\"element\":\"H\",\"location\":[0.600364,5.122986,0.867923]},{\"charge\":0.019399,\"element\":\"H\",\"location\":[-0.958608,5.765840,0.205805]},{\"charge\":0.019399,\"element\":\"H\",\"location\":[0.452156,5.496962,-0.898499]},{\"charge\":0.019399,\"element\":\"H\",\"location\":[0.493392,6.843990,0.312241]},{\"charge\":-0.343687,\"element\":\"N\",\"location\":[2.420480,-5.265353,1.215620]},{\"charge\":0.114562,\"element\":\"H\",\"location\":[2.519356,-5.501675,0.204247]},{\"charge\":0.114562,\"element\":\"H\",\"location\":[1.757368,-5.944983,1.647900]},{\"charge\":0.114562,\"element\":\"H\",\"location\":[2.006602,-4.310563,1.290364]},{\"charge\":-0.343687,\"element\":\"N\",\"location\":[3.900486,4.341026,2.334487]},{\"charge\":0.114562,\"element\":\"H\",\"location\":[4.117161,5.011367,1.564945]},{\"charge\":0.114562,\"element\":\"H\",\"location\":[3.534672,3.461152,1.909652]},{\"charge\":0.114562,\"element\":\"H\",\"location\":[3.149480,4.755298,2.928520]},{\"charge\":-0.343687,\"element\":\"N\",\"location\":[2.607261,-4.971573,5.620023]},{\"charge\":0.114562,\"element\":\"H\",\"location\":[1.883514,-5.611675,6.013673]},{\"charge\":0.114562,\"element\":\"H\",\"location\":[2.235228,-4.559681,4.736611]},{\"charge\":0.114562,\"element\":\"H\",\"location\":[3.453183,-5.536349,5.387751]},{\"charge\":-0.343687,\"element\":\"N\",\"location\":[-4.878203,5.288759,-2.053014]},{\"charge\":0.114562,\"element\":\"H\",\"location\":[-5.392560,4.536206,-1.545471]},{\"charge\":0.114562,\"element\":\"H\",\"location\":[-4.621306,4.930178,-2.998479]},{\"charge\":0.114562,\"element\":\"H\",\"location\":[-3.999043,5.494955,-1.530456]},{\"charge\":-0.343687,\"element\":\"N\",\"location\":[2.613556,5.898971,-3.400840]},{\"charge\":0.114562,\"element\":\"H\",\"location\":[2.833106,6.891660,-3.166606]},{\"charge\":0.114562,\"element\":\"H\",\"location\":[3.483571,5.445661,-3.755896]},{\"charge\":0.114562,\"element\":\"H\",\"location\":[1.904267,5.891697,-4.165929]},{\"charge\":-0.343687,\"element\":\"N\",\"location\":[-1.959070,3.441610,4.623900]},{\"charge\":0.114562,\"element\":\"H\",\"location\":[-1.067640,2.907739,4.529912]},{\"charge\":0.114562,\"element\":\"H\",\"location\":[-1.736999,4.385526,5.008851]},{\"charge\":0.114562,\"element\":\"H\",\"location\":[-2.569032,2.943534,5.308278]},{\"charge\":-0.343687,\"element\":\"N\",\"location\":[-2.753445,-1.119373,3.539251]},{\"charge\":0.114562,\"element\":\"H\",\"location\":[-2.317987,-2.033387,3.287347]},{\"charge\":0.114562,\"element\":\"H\",\"location\":[-2.030516,-0.373569,3.441120]},{\"charge\":0.114562,\"element\":\"H\",\"location\":[-3.048051,-1.160988,4.539242]},{\"charge\":-0.343687,\"element\":\"N\",\"location\":[3.011135,-2.250005,-2.230842]},{\"charge\":0.114562,\"element\":\"H\",\"location\":[2.037457,-1.979191,-1.971783]},{\"charge\":0.114562,\"element\":\"H\",\"location\":[3.201250,-1.905552,-3.197118]},{\"charge\":0.114562,\"element\":\"H\",\"location\":[3.071423,-3.291563,-2.236183]},{\"charge\":-0.343687,\"element\":\"N\",\"location\":[6.944821,-2.523329,-2.969488]},{\"charge\":0.114562,\"element\":\"H\",\"location\":[6.381520,-2.588019,-3.845278]},{\"charge\":0.114562,\"element\":\"H\",\"location\":[6.295175,-2.591160,-2.155954]},{\"charge\":0.114562,\"element\":\"H\",\"location\":[7.405446,-1.587545,-2.944200]},{\"charge\":-0.343687,\"element\":\"N\",\"location\":[0.654479,0.195691,-7.193273]},{\"charge\":0.114562,\"element\":\"H\",\"location\":[-0.041082,-0.543676,-6.952377]},{\"charge\":0.114562,\"element\":\"H\",\"location\":[1.434188,0.150310,-6.501554]},{\"charge\":0.114562,\"element\":\"H\",\"location\":[0.189552,1.125300,-7.102847]}],\"bonds\":[{\"atoms\":[116,119],\"order\":1},{\"atoms\":[116,117],\"order\":1},{\"atoms\":[116,118],\"order\":1},{\"atoms\":[62,60],\"order\":1},{\"atoms\":[58,55],\"order\":1},{\"atoms\":[59,55],\"order\":1},{\"atoms\":[66,65],\"order\":1},{\"atoms\":[64,60],\"order\":1},{\"atoms\":[69,65],\"order\":1},{\"atoms\":[55,56],\"order\":1},{\"atoms\":[55,57],\"order\":1},{\"atoms\":[60,61],\"order\":1},{\"atoms\":[60,63],\"order\":1},{\"atoms\":[72,70],\"order\":1},{\"atoms\":[65,67],\"order\":1},{\"atoms\":[65,68],\"order\":1},{\"atoms\":[74,70],\"order\":1},{\"atoms\":[71,70],\"order\":1},{\"atoms\":[70,73],\"order\":1},{\"atoms\":[99,96],\"order\":1},{\"atoms\":[113,112],\"order\":1},{\"atoms\":[98,96],\"order\":1},{\"atoms\":[96,97],\"order\":1},{\"atoms\":[110,108],\"order\":1},{\"atoms\":[6,7],\"order\":1},{\"atoms\":[6,8],\"order\":1},{\"atoms\":[94,92],\"order\":1},{\"atoms\":[112,115],\"order\":1},{\"atoms\":[112,114],\"order\":1},{\"atoms\":[11,9],\"order\":1},{\"atoms\":[9,10],\"order\":1},{\"atoms\":[111,108],\"order\":1},{\"atoms\":[108,109],\"order\":1},{\"atoms\":[92,93],\"order\":1},{\"atoms\":[92,95],\"order\":1},{\"atoms\":[41,40],\"order\":1},{\"atoms\":[34,30],\"order\":1},{\"atoms\":[32,30],\"order\":1},{\"atoms\":[78,75],\"order\":1},{\"atoms\":[40,44],\"order\":1},{\"atoms\":[40,42],\"order\":1},{\"atoms\":[40,43],\"order\":1},{\"atoms\":[30,33],\"order\":1},{\"atoms\":[30,31],\"order\":1},{\"atoms\":[53,50],\"order\":1},{\"atoms\":[75,77],\"order\":1},{\"atoms\":[75,79],\"order\":1},{\"atoms\":[75,76],\"order\":1},{\"atoms\":[81,80],\"order\":1},{\"atoms\":[37,35],\"order\":1},{\"atoms\":[13,12],\"order\":1},{\"atoms\":[50,52],\"order\":1},{\"atoms\":[50,51],\"order\":1},{\"atoms\":[50,54],\"order\":1},{\"atoms\":[3,4],\"order\":1},{\"atoms\":[3,5],\"order\":1},{\"atoms\":[12,14],\"order\":1},{\"atoms\":[80,83],\"order\":1},{\"atoms\":[80,82],\"order\":1},{\"atoms\":[35,39],\"order\":1},{\"atoms\":[35,38],\"order\":1},{\"atoms\":[35,36],\"order\":1},{\"atoms\":[85,84],\"order\":1},{\"atoms\":[19,18],\"order\":1},{\"atoms\":[86,84],\"order\":1},{\"atoms\":[20,18],\"order\":1},{\"atoms\":[84,87],\"order\":1},{\"atoms\":[29,27],\"order\":1},{\"atoms\":[27,28],\"order\":1},{\"atoms\":[1,0],\"order\":1},{\"atoms\":[105,104],\"order\":1},{\"atoms\":[0,2],\"order\":1},{\"atoms\":[106,104],\"order\":1},{\"atoms\":[104,107],\"order\":1},{\"atoms\":[101,100],\"order\":1},{\"atoms\":[100,102],\"order\":1},{\"atoms\":[100,103],\"order\":1},{\"atoms\":[90,88],\"order\":1},{\"atoms\":[17,15],\"order\":1},{\"atoms\":[24,26],\"order\":1},{\"atoms\":[24,25],\"order\":1},{\"atoms\":[91,88],\"order\":1},{\"atoms\":[15,16],\"order\":1},{\"atoms\":[88,89],\"order\":1},{\"atoms\":[47,45],\"order\":1},{\"atoms\":[23,21],\"order\":1},{\"atoms\":[21,22],\"order\":1},{\"atoms\":[48,45],\"order\":1},{\"atoms\":[45,49],\"order\":1},{\"atoms\":[45,46],\"order\":1}],\"formula\":\"C10H90N10O10\",\"molecular_weight\":510.882600,\"units\":{\"molecular_weight\":\"g / mol\"}});\n",
       "\n",
       "               $d.resizable({\n",
       "                   aspectRatio: 400 / 300,\n",
       "                   resize: function (evt, ui) {\n",
       "                       $d.imolecule.renderer.setSize(ui.size.width,\n",
       "                                                     ui.size.height);\n",
       "                   }\n",
       "               });\n",
       "           });\n",
       "           </script>"
      ],
      "text/plain": [
       "<IPython.core.display.HTML object>"
      ]
     },
     "metadata": {},
     "output_type": "display_data"
    }
   ],
   "source": [
    "from imolecule import draw\n",
    "draw(\"eight.xyz\")"
   ]
  },
  {
   "cell_type": "markdown",
   "metadata": {},
   "source": [
    "If you change your mind you can use `set_options()` method to change options.  Here we specify the Merck force fields to be used to construct 3D geometries from SMILES, and changed `packmol` parameters a bit."
   ]
  },
  {
   "cell_type": "code",
   "execution_count": 5,
   "metadata": {
    "collapsed": true
   },
   "outputs": [],
   "source": [
    "pm.set_options(opt_force_field='mmff94',tolerance=3.5,dimension=5,nloop=500)"
   ]
  },
  {
   "cell_type": "markdown",
   "metadata": {},
   "source": [
    "Now we try packing again with these new parameters.  `pack()` will throw an error when packmol fails.  Here the radius is too small and packing is not possible.  \n",
    "\n",
    "**TODO** We should in the future implement **Laszlo**'s automatic radius setting as a method.  We can also start with the heuristic radius then do trial and error until packing is successful.  "
   ]
  },
  {
   "cell_type": "code",
   "execution_count": 6,
   "metadata": {
    "collapsed": false
   },
   "outputs": [
    {
     "ename": "Exception",
     "evalue": "Packing failed.  Cannot fulfill tolerance constraints. Best result found in [five.xyz]",
     "output_type": "error",
     "traceback": [
      "\u001b[1;31m---------------------------------------------------------------------------\u001b[0m",
      "\u001b[1;31mException\u001b[0m                                 Traceback (most recent call last)",
      "\u001b[1;32m<ipython-input-6-66d076eeb713>\u001b[0m in \u001b[0;36m<module>\u001b[1;34m()\u001b[0m\n\u001b[1;32m----> 1\u001b[1;33m \u001b[0mresult5\u001b[0m\u001b[1;33m=\u001b[0m\u001b[0mpm\u001b[0m\u001b[1;33m.\u001b[0m\u001b[0mpack\u001b[0m\u001b[1;33m(\u001b[0m\u001b[0moutput\u001b[0m\u001b[1;33m=\u001b[0m\u001b[1;34m\"five.xyz\"\u001b[0m\u001b[1;33m)\u001b[0m\u001b[1;33m\u001b[0m\u001b[0m\n\u001b[0m",
      "\u001b[1;32m/home/stanford/toddmtz/users/zhuxl/nanoreactor-dev/pypackmol/src/pypackmol.pyc\u001b[0m in \u001b[0;36mpack\u001b[1;34m(self, output)\u001b[0m\n\u001b[0;32m    168\u001b[0m         \u001b[1;32mif\u001b[0m \u001b[1;34m\"STOP\"\u001b[0m \u001b[1;32min\u001b[0m \u001b[0mpackmol_output\u001b[0m \u001b[1;33m:\u001b[0m\u001b[1;33m\u001b[0m\u001b[0m\n\u001b[0;32m    169\u001b[0m             raise Exception((\"Packing failed.  Cannot fulfill tolerance constraints. \" +\n\u001b[1;32m--> 170\u001b[1;33m                            \"Best result found in [{}]\").format(self._options[\"output\"]))\n\u001b[0m\u001b[0;32m    171\u001b[0m         \u001b[1;32mreturn\u001b[0m \u001b[1;33m{\u001b[0m\u001b[1;34m\"filename\"\u001b[0m\u001b[1;33m:\u001b[0m\u001b[0mself\u001b[0m\u001b[1;33m.\u001b[0m\u001b[0m_options\u001b[0m\u001b[1;33m[\u001b[0m\u001b[1;34m\"output\"\u001b[0m\u001b[1;33m]\u001b[0m\u001b[1;33m,\u001b[0m\u001b[1;34m\"packmol output\"\u001b[0m\u001b[1;33m:\u001b[0m\u001b[0mpackmol_output\u001b[0m\u001b[1;33m}\u001b[0m\u001b[1;33m\u001b[0m\u001b[0m\n\u001b[0;32m    172\u001b[0m \u001b[1;33m\u001b[0m\u001b[0m\n",
      "\u001b[1;31mException\u001b[0m: Packing failed.  Cannot fulfill tolerance constraints. Best result found in [five.xyz]"
     ]
    }
   ],
   "source": [
    "result5=pm.pack(output=\"five.xyz\")"
   ]
  },
  {
   "cell_type": "markdown",
   "metadata": {},
   "source": [
    "There are some limited documentations and they can be accessed through the `help` command if you are in **IPython** or interactive shell.  "
   ]
  },
  {
   "cell_type": "code",
   "execution_count": 8,
   "metadata": {
    "collapsed": false
   },
   "outputs": [
    {
     "name": "stdout",
     "output_type": "stream",
     "text": [
      "Help on module pypackmol:\n",
      "\n",
      "NAME\n",
      "    pypackmol\n",
      "\n",
      "FILE\n",
      "    /home/stanford/toddmtz/users/zhuxl/nanoreactor-dev/pypackmol/src/pypackmol.py\n",
      "\n",
      "DESCRIPTION\n",
      "    PyPackmol is a Python wrapper for packmol program that provide simple packing of molecules. \n",
      "    Note that packmol needs to be installed separately.  \n",
      "    Molecules can be given in terms of input files (xyz, etc), or SMILES strings.  \n",
      "    Open Babel is required to do the conversion if the input format is not xyz.\n",
      "\n",
      "CLASSES\n",
      "    __builtin__.object\n",
      "        Packmol\n",
      "    \n",
      "    class Packmol(__builtin__.object)\n",
      "     |  Wrapper class for the packmol molecule packer program\n",
      "     |  \n",
      "     |  Methods defined here:\n",
      "     |  \n",
      "     |  __init__(self, **kwargs)\n",
      "     |      Construct packmol run by providing simulation parameters.\n",
      "     |  \n",
      "     |  add_structure(self, input_data, input_format='auto', count=1)\n",
      "     |      Add one or more structure group to be packed by packmol.\n",
      "     |      \n",
      "     |      Args:\n",
      "     |          input_data: molecular structure of the new group(s).  A \n",
      "     |              string that contains filename that contains this \n",
      "     |              structure, or a SMILES string.  \n",
      "     |          input_format: Format of `input_data`.  Can be any OpenBabel recognized file\n",
      "     |              format or `smi` for a SMILES.  When set to `auto`, which is the default,\n",
      "     |              the format will be determined from filename, or set to SMILES if it does\n",
      "     |              not correspond to any existing file.\n",
      "     |          count: Number of this structure to be packed.  Default is 1.\n",
      "     |  \n",
      "     |  autosize(self)\n",
      "     |  \n",
      "     |  pack(self, output=None)\n",
      "     |  \n",
      "     |  set_options(self, **kwargs)\n",
      "     |      Update packmol option values.\n",
      "     |  \n",
      "     |  ----------------------------------------------------------------------\n",
      "     |  Data descriptors defined here:\n",
      "     |  \n",
      "     |  __dict__\n",
      "     |      dictionary for instance variables (if defined)\n",
      "     |  \n",
      "     |  __weakref__\n",
      "     |      list of weak references to the object (if defined)\n",
      "     |  \n",
      "     |  ----------------------------------------------------------------------\n",
      "     |  Data and other attributes defined here:\n",
      "     |  \n",
      "     |  NONPACKMOL_OPTIONS = ['command_line', 'region_type', 'dimension', 'opt...\n",
      "\n",
      "FUNCTIONS\n",
      "    convert_to_xyz(input_data, input_format='auto', force_field='uff')\n",
      "        Convert input format unrecognized by packmol into xyz files.\n",
      "        \n",
      "        If the input molecular structure data is in a xyz file, the function \n",
      "        simply transfer the data to a temp file. Otherwise, the function use \n",
      "        OpenBabel to convert into xyz format, then save this to a temp file.\n",
      "        \n",
      "        Args:\n",
      "            input_data: Filename or SMILES string to be converted\n",
      "            input_format: Format of the input.  When the value is \"auto\" which is \n",
      "                the default, the function will try to determine the type of input \n",
      "                file. In such event, if the input string does not correspond to an \n",
      "                existing file that can be opened, the string is instead taken to \n",
      "                be a SMILES string. \n",
      "            force_field: The force-field used by OpenBabel during constructions\n",
      "                of 3D structure if only 2D structures are available (i.e., SMILES)\n",
      "        \n",
      "        Returns:\n",
      "            A named temporary file containing the molecular structure in xyz format.  \n",
      "            Note that since this is a temp file, it will automatically be deleted \n",
      "            when the file object is unreferenced or destroyed.\n",
      "\n",
      "DATA\n",
      "    __author__ = 'Xiaolei Zhu'\n",
      "    __copyright__ = 'Martinez Group, Stanford University, CA, USA, Planet ...\n",
      "    __email__ = 'virtualzx@gmail.com'\n",
      "    __maintainer__ = 'Xiaolei Zhu'\n",
      "    __status__ = 'Prototype'\n",
      "    __title__ = 'pypackmol'\n",
      "    __version__ = '0.1.0'\n",
      "\n",
      "VERSION\n",
      "    0.1.0\n",
      "\n",
      "AUTHOR\n",
      "    Xiaolei Zhu\n",
      "\n",
      "\n"
     ]
    }
   ],
   "source": [
    "help(pypackmol)"
   ]
  }
 ],
 "metadata": {
  "kernelspec": {
   "display_name": "Python 2",
   "language": "python",
   "name": "python2"
  },
  "language_info": {
   "codemirror_mode": {
    "name": "ipython",
    "version": 2
   },
   "file_extension": ".py",
   "mimetype": "text/x-python",
   "name": "python",
   "nbconvert_exporter": "python",
   "pygments_lexer": "ipython2",
   "version": "2.7.11"
  }
 },
 "nbformat": 4,
 "nbformat_minor": 0
}
