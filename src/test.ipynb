{
 "cells": [
  {
   "cell_type": "code",
   "execution_count": 1,
   "metadata": {
    "collapsed": false
   },
   "outputs": [],
   "source": [
    "import pypackmol"
   ]
  },
  {
   "cell_type": "code",
   "execution_count": 2,
   "metadata": {
    "collapsed": false
   },
   "outputs": [],
   "source": [
    "pm=pypackmol.Packmol(dimension=8)"
   ]
  },
  {
   "cell_type": "code",
   "execution_count": 3,
   "metadata": {
    "collapsed": false
   },
   "outputs": [],
   "source": [
    "pm.add_structure('O',count=10)\n",
    "pm.add_structure('C',count=10)\n",
    "pm.add_structure('N',count=10)"
   ]
  },
  {
   "cell_type": "code",
   "execution_count": 4,
   "metadata": {
    "collapsed": false
   },
   "outputs": [],
   "source": [
    "result=pm.pack()"
   ]
  },
  {
   "cell_type": "code",
   "execution_count": 5,
   "metadata": {
    "collapsed": false
   },
   "outputs": [
    {
     "data": {
      "text/html": [
       "<div id=\"molecule_dd589cb8-f093-4209-9e61-154f933e4ea0\"></div>\n",
       "           <script type=\"text/javascript\">\n",
       "           require.config({baseUrl: '/',\n",
       "                           paths: {imolecule: ['nbextensions/imolecule.min', 'https://rawgit.com/patrickfuller/imolecule/master/imolecule/js/build/imolecule.min']}});\n",
       "           require(['imolecule'], function () {\n",
       "               var $d = $('#molecule_dd589cb8-f093-4209-9e61-154f933e4ea0');\n",
       "               $d.width(400); $d.height(300);\n",
       "               $d.imolecule = jQuery.extend({}, imolecule);\n",
       "               $d.imolecule.create($d, {drawingType: 'ball and stick',\n",
       "                                        cameraType: 'perspective',\n",
       "                                        shader: 'lambert',\n",
       "                                        showSave: false});\n",
       "               $d.imolecule.addElements({});\n",
       "               $d.imolecule.draw({\"atoms\":[{\"charge\":-0.410466,\"element\":\"O\",\"location\":[-2.842584,-4.826663,5.737575]},{\"charge\":0.205233,\"element\":\"H\",\"location\":[-1.974217,-4.390068,5.548014]},{\"charge\":0.205233,\"element\":\"H\",\"location\":[-3.014489,-5.392397,4.943223]},{\"charge\":-0.410466,\"element\":\"O\",\"location\":[5.869316,-4.361452,0.322753]},{\"charge\":0.205233,\"element\":\"H\",\"location\":[5.176516,-5.058423,0.444700]},{\"charge\":0.205233,\"element\":\"H\",\"location\":[6.663315,-4.715179,0.797141]},{\"charge\":-0.410466,\"element\":\"O\",\"location\":[-6.540799,0.453835,-1.386502]},{\"charge\":0.205233,\"element\":\"H\",\"location\":[-6.899756,0.973761,-2.149023]},{\"charge\":0.205233,\"element\":\"H\",\"location\":[-6.045347,-0.293366,-1.807002]},{\"charge\":-0.410466,\"element\":\"O\",\"location\":[-0.403234,2.602980,-3.629670]},{\"charge\":0.205233,\"element\":\"H\",\"location\":[-1.082417,2.892663,-2.969818]},{\"charge\":0.205233,\"element\":\"H\",\"location\":[0.349656,3.233831,-3.504024]},{\"charge\":-0.410466,\"element\":\"O\",\"location\":[6.477407,-0.183792,1.495123]},{\"charge\":0.205233,\"element\":\"H\",\"location\":[7.058201,-0.890915,1.116618]},{\"charge\":0.205233,\"element\":\"H\",\"location\":[5.841291,0.030839,0.767186]},{\"charge\":-0.410466,\"element\":\"O\",\"location\":[4.757144,-2.401932,4.359023]},{\"charge\":0.205233,\"element\":\"H\",\"location\":[3.924529,-1.938651,4.089334]},{\"charge\":0.205233,\"element\":\"H\",\"location\":[5.226611,-1.750913,4.939004]},{\"charge\":-0.410466,\"element\":\"O\",\"location\":[0.748798,-0.082103,1.314082]},{\"charge\":0.205233,\"element\":\"H\",\"location\":[0.958895,0.873358,1.160573]},{\"charge\":0.205233,\"element\":\"H\",\"location\":[-0.122854,-0.072100,1.783896]},{\"charge\":-0.410466,\"element\":\"O\",\"location\":[-2.284654,1.188701,7.329628]},{\"charge\":0.205233,\"element\":\"H\",\"location\":[-2.270792,0.305182,7.776631]},{\"charge\":0.205233,\"element\":\"H\",\"location\":[-3.244662,1.369914,7.167923]},{\"charge\":-0.410466,\"element\":\"O\",\"location\":[4.857244,3.515800,4.532500]},{\"charge\":0.205233,\"element\":\"H\",\"location\":[4.827817,4.357364,5.053570]},{\"charge\":0.205233,\"element\":\"H\",\"location\":[5.425395,3.728344,3.749792]},{\"charge\":-0.410466,\"element\":\"O\",\"location\":[-6.321513,-1.981928,2.568699]},{\"charge\":0.205233,\"element\":\"H\",\"location\":[-6.790185,-1.411720,3.228865]},{\"charge\":0.205233,\"element\":\"H\",\"location\":[-6.393999,-2.898414,2.936668]},{\"charge\":-0.077596,\"element\":\"C\",\"location\":[-1.882130,-4.898108,-3.480193]},{\"charge\":0.019399,\"element\":\"H\",\"location\":[-1.155504,-4.399519,-2.806255]},{\"charge\":0.019399,\"element\":\"H\",\"location\":[-1.363692,-5.684835,-4.065890]},{\"charge\":0.019399,\"element\":\"H\",\"location\":[-2.318743,-4.149061,-4.172344]},{\"charge\":0.019399,\"element\":\"H\",\"location\":[-2.690604,-5.359007,-2.876281]},{\"charge\":-0.077596,\"element\":\"C\",\"location\":[-6.482850,2.169743,2.055673]},{\"charge\":0.019399,\"element\":\"H\",\"location\":[-5.924322,3.112875,2.226894]},{\"charge\":0.019399,\"element\":\"H\",\"location\":[-7.006742,1.875675,2.988315]},{\"charge\":0.019399,\"element\":\"H\",\"location\":[-5.774214,1.368550,1.761223]},{\"charge\":0.019399,\"element\":\"H\",\"location\":[-7.226116,2.321860,1.246240]},{\"charge\":-0.077596,\"element\":\"C\",\"location\":[-5.399503,-3.733058,-0.757982]},{\"charge\":0.019399,\"element\":\"H\",\"location\":[-6.391761,-3.359358,-0.431576]},{\"charge\":0.019399,\"element\":\"H\",\"location\":[-5.351597,-4.831690,-0.611453]},{\"charge\":0.019399,\"element\":\"H\",\"location\":[-4.604642,-3.244873,-0.157443]},{\"charge\":0.019399,\"element\":\"H\",\"location\":[-5.249997,-3.496292,-1.831461]},{\"charge\":-0.077596,\"element\":\"C\",\"location\":[-2.534035,3.111511,0.781402]},{\"charge\":0.019399,\"element\":\"H\",\"location\":[-2.432299,4.191769,1.012618]},{\"charge\":0.019399,\"element\":\"H\",\"location\":[-2.693331,2.545386,1.722085]},{\"charge\":0.019399,\"element\":\"H\",\"location\":[-1.609809,2.750985,0.284809]},{\"charge\":0.019399,\"element\":\"H\",\"location\":[-3.400694,2.957898,0.106071]},{\"charge\":-0.077596,\"element\":\"C\",\"location\":[1.147041,-3.378975,-5.597850]},{\"charge\":0.019399,\"element\":\"H\",\"location\":[1.956566,-3.005706,-6.258235]},{\"charge\":0.019399,\"element\":\"H\",\"location\":[0.220823,-3.520347,-6.191898]},{\"charge\":0.019399,\"element\":\"H\",\"location\":[0.959419,-2.642043,-4.790073]},{\"charge\":0.019399,\"element\":\"H\",\"location\":[1.451363,-4.347806,-5.151171]},{\"charge\":-0.077596,\"element\":\"C\",\"location\":[4.271755,2.037179,-4.971503]},{\"charge\":0.019399,\"element\":\"H\",\"location\":[3.506374,2.535615,-5.601203]},{\"charge\":0.019399,\"element\":\"H\",\"location\":[5.278625,2.217710,-5.400899]},{\"charge\":0.019399,\"element\":\"H\",\"location\":[4.072669,0.946196,-4.941575]},{\"charge\":0.019399,\"element\":\"H\",\"location\":[4.229343,2.449182,-3.942318]},{\"charge\":-0.077596,\"element\":\"C\",\"location\":[-3.300672,1.111192,-5.535755]},{\"charge\":0.019399,\"element\":\"H\",\"location\":[-3.096385,2.200835,-5.494374]},{\"charge\":0.019399,\"element\":\"H\",\"location\":[-2.887188,0.692880,-6.476395]},{\"charge\":0.019399,\"element\":\"H\",\"location\":[-4.396168,0.938887,-5.504534]},{\"charge\":0.019399,\"element\":\"H\",\"location\":[-2.822961,0.612157,-4.667697]},{\"charge\":-0.077596,\"element\":\"C\",\"location\":[0.009192,6.298800,-0.399116]},{\"charge\":0.019399,\"element\":\"H\",\"location\":[-0.133129,5.394742,-1.026167]},{\"charge\":0.019399,\"element\":\"H\",\"location\":[0.755814,6.966188,-0.876512]},{\"charge\":0.019399,\"element\":\"H\",\"location\":[0.370630,5.998626,0.605888]},{\"charge\":0.019399,\"element\":\"H\",\"location\":[-0.956559,6.835642,-0.299652]},{\"charge\":-0.077596,\"element\":\"C\",\"location\":[2.704261,-6.399233,2.877748]},{\"charge\":0.019399,\"element\":\"H\",\"location\":[2.135926,-6.818804,3.733156]},{\"charge\":0.019399,\"element\":\"H\",\"location\":[2.441282,-5.329268,2.748220]},{\"charge\":0.019399,\"element\":\"H\",\"location\":[2.447875,-6.957513,1.953971]},{\"charge\":0.019399,\"element\":\"H\",\"location\":[3.791975,-6.491361,3.075633]},{\"charge\":-0.077596,\"element\":\"C\",\"location\":[3.921049,3.268883,0.046944]},{\"charge\":0.019399,\"element\":\"H\",\"location\":[5.016883,3.189585,0.200662]},{\"charge\":0.019399,\"element\":\"H\",\"location\":[3.699696,4.150333,-0.589300]},{\"charge\":0.019399,\"element\":\"H\",\"location\":[3.417418,3.385502,1.028540]},{\"charge\":0.019399,\"element\":\"H\",\"location\":[3.550187,2.350095,-0.452113]},{\"charge\":-0.343687,\"element\":\"N\",\"location\":[1.665935,-4.156044,6.377157]},{\"charge\":0.114562,\"element\":\"H\",\"location\":[2.571670,-4.348080,5.896278]},{\"charge\":0.114562,\"element\":\"H\",\"location\":[1.872767,-3.767484,7.323070]},{\"charge\":0.114562,\"element\":\"H\",\"location\":[1.160321,-5.060672,6.497598]},{\"charge\":-0.343687,\"element\":\"N\",\"location\":[-4.223368,4.557391,-2.753738]},{\"charge\":0.114562,\"element\":\"H\",\"location\":[-3.415850,5.217986,-2.756600]},{\"charge\":0.114562,\"element\":\"H\",\"location\":[-4.653479,4.561099,-3.704264]},{\"charge\":0.114562,\"element\":\"H\",\"location\":[-4.931262,4.907741,-2.072089]},{\"charge\":-0.343687,\"element\":\"N\",\"location\":[2.801420,6.427289,-4.027807]},{\"charge\":0.114562,\"element\":\"H\",\"location\":[1.790443,6.182148,-3.948374]},{\"charge\":0.114562,\"element\":\"H\",\"location\":[3.290958,5.645941,-4.516027]},{\"charge\":0.114562,\"element\":\"H\",\"location\":[3.195293,6.510541,-3.065291]},{\"charge\":-0.343687,\"element\":\"N\",\"location\":[-0.425925,3.124546,4.052166]},{\"charge\":0.114562,\"element\":\"H\",\"location\":[-0.223551,2.182700,4.452726]},{\"charge\":0.114562,\"element\":\"H\",\"location\":[0.476470,3.554778,3.753680]},{\"charge\":0.114562,\"element\":\"H\",\"location\":[-0.839714,3.718460,4.803530]},{\"charge\":-0.343687,\"element\":\"N\",\"location\":[-2.903305,-1.093390,3.529237]},{\"charge\":0.114562,\"element\":\"H\",\"location\":[-3.286904,-0.628959,2.677395]},{\"charge\":0.114562,\"element\":\"H\",\"location\":[-2.690078,-2.087022,3.293143]},{\"charge\":0.114562,\"element\":\"H\",\"location\":[-3.639613,-1.082662,4.268317]},{\"charge\":-0.343687,\"element\":\"N\",\"location\":[2.791429,-1.721033,-1.761778]},{\"charge\":0.114562,\"element\":\"H\",\"location\":[1.922192,-2.055593,-1.291696]},{\"charge\":0.114562,\"element\":\"H\",\"location\":[3.424000,-1.320745,-1.035050]},{\"charge\":0.114562,\"element\":\"H\",\"location\":[2.532530,-0.959754,-2.426555]},{\"charge\":-0.343687,\"element\":\"N\",\"location\":[6.248421,-2.398343,-3.159328]},{\"charge\":0.114562,\"element\":\"H\",\"location\":[5.806658,-3.338852,-3.252965]},{\"charge\":0.114562,\"element\":\"H\",\"location\":[6.405238,-2.209156,-2.145362]},{\"charge\":0.114562,\"element\":\"H\",\"location\":[5.581792,-1.684846,-3.526794]},{\"charge\":-0.343687,\"element\":\"N\",\"location\":[0.918727,0.564514,-6.842537]},{\"charge\":0.114562,\"element\":\"H\",\"location\":[0.404055,1.429471,-7.117202]},{\"charge\":0.114562,\"element\":\"H\",\"location\":[0.403336,-0.258718,-7.223550]},{\"charge\":0.114562,\"element\":\"H\",\"location\":[0.917600,0.498923,-5.801287]},{\"charge\":-0.343687,\"element\":\"N\",\"location\":[1.762092,0.922801,7.692450]},{\"charge\":0.114562,\"element\":\"H\",\"location\":[1.887730,1.618834,6.925487]},{\"charge\":0.114562,\"element\":\"H\",\"location\":[2.691849,0.748218,8.132431]},{\"charge\":0.114562,\"element\":\"H\",\"location\":[1.425072,0.029220,7.272409]},{\"charge\":-0.343687,\"element\":\"N\",\"location\":[-1.789057,-0.995450,-1.798188]},{\"charge\":0.114562,\"element\":\"H\",\"location\":[-1.012763,-1.109927,-2.485750]},{\"charge\":0.114562,\"element\":\"H\",\"location\":[-1.493492,-1.426279,-0.895116]},{\"charge\":0.114562,\"element\":\"H\",\"location\":[-2.620836,-1.515755,-2.153055]}],\"bonds\":[{\"atoms\":[110,108],\"order\":1},{\"atoms\":[109,108],\"order\":1},{\"atoms\":[108,111],\"order\":1},{\"atoms\":[62,60],\"order\":1},{\"atoms\":[51,50],\"order\":1},{\"atoms\":[52,50],\"order\":1},{\"atoms\":[56,55],\"order\":1},{\"atoms\":[50,54],\"order\":1},{\"atoms\":[50,53],\"order\":1},{\"atoms\":[60,63],\"order\":1},{\"atoms\":[60,61],\"order\":1},{\"atoms\":[60,64],\"order\":1},{\"atoms\":[57,55],\"order\":1},{\"atoms\":[55,58],\"order\":1},{\"atoms\":[55,59],\"order\":1},{\"atoms\":[90,88],\"order\":1},{\"atoms\":[33,30],\"order\":1},{\"atoms\":[32,30],\"order\":1},{\"atoms\":[88,89],\"order\":1},{\"atoms\":[88,91],\"order\":1},{\"atoms\":[86,84],\"order\":1},{\"atoms\":[9,11],\"order\":1},{\"atoms\":[9,10],\"order\":1},{\"atoms\":[107,104],\"order\":1},{\"atoms\":[30,34],\"order\":1},{\"atoms\":[30,31],\"order\":1},{\"atoms\":[105,104],\"order\":1},{\"atoms\":[104,106],\"order\":1},{\"atoms\":[85,84],\"order\":1},{\"atoms\":[84,87],\"order\":1},{\"atoms\":[117,116],\"order\":1},{\"atoms\":[103,100],\"order\":1},{\"atoms\":[119,116],\"order\":1},{\"atoms\":[7,6],\"order\":1},{\"atoms\":[44,40],\"order\":1},{\"atoms\":[8,6],\"order\":1},{\"atoms\":[116,118],\"order\":1},{\"atoms\":[100,101],\"order\":1},{\"atoms\":[100,102],\"order\":1},{\"atoms\":[66,65],\"order\":1},{\"atoms\":[67,65],\"order\":1},{\"atoms\":[40,42],\"order\":1},{\"atoms\":[40,41],\"order\":1},{\"atoms\":[40,43],\"order\":1},{\"atoms\":[77,75],\"order\":1},{\"atoms\":[79,75],\"order\":1},{\"atoms\":[65,69],\"order\":1},{\"atoms\":[65,68],\"order\":1},{\"atoms\":[75,76],\"order\":1},{\"atoms\":[75,78],\"order\":1},{\"atoms\":[49,45],\"order\":1},{\"atoms\":[48,45],\"order\":1},{\"atoms\":[3,4],\"order\":1},{\"atoms\":[3,5],\"order\":1},{\"atoms\":[14,12],\"order\":1},{\"atoms\":[45,46],\"order\":1},{\"atoms\":[45,47],\"order\":1},{\"atoms\":[13,12],\"order\":1},{\"atoms\":[19,18],\"order\":1},{\"atoms\":[39,35],\"order\":1},{\"atoms\":[18,20],\"order\":1},{\"atoms\":[38,35],\"order\":1},{\"atoms\":[73,70],\"order\":1},{\"atoms\":[35,36],\"order\":1},{\"atoms\":[35,37],\"order\":1},{\"atoms\":[27,29],\"order\":1},{\"atoms\":[27,28],\"order\":1},{\"atoms\":[97,96],\"order\":1},{\"atoms\":[72,70],\"order\":1},{\"atoms\":[70,74],\"order\":1},{\"atoms\":[70,71],\"order\":1},{\"atoms\":[98,96],\"order\":1},{\"atoms\":[96,99],\"order\":1},{\"atoms\":[26,24],\"order\":1},{\"atoms\":[94,92],\"order\":1},{\"atoms\":[92,93],\"order\":1},{\"atoms\":[92,95],\"order\":1},{\"atoms\":[16,15],\"order\":1},{\"atoms\":[15,17],\"order\":1},{\"atoms\":[24,25],\"order\":1},{\"atoms\":[2,0],\"order\":1},{\"atoms\":[1,0],\"order\":1},{\"atoms\":[81,80],\"order\":1},{\"atoms\":[80,83],\"order\":1},{\"atoms\":[80,82],\"order\":1},{\"atoms\":[113,112],\"order\":1},{\"atoms\":[23,21],\"order\":1},{\"atoms\":[115,112],\"order\":1},{\"atoms\":[21,22],\"order\":1},{\"atoms\":[112,114],\"order\":1}],\"formula\":\"C10H90N10O10\",\"molecular_weight\":510.882600,\"units\":{\"molecular_weight\":\"g / mol\"}});\n",
       "\n",
       "               $d.resizable({\n",
       "                   aspectRatio: 400 / 300,\n",
       "                   resize: function (evt, ui) {\n",
       "                       $d.imolecule.renderer.setSize(ui.size.width,\n",
       "                                                     ui.size.height);\n",
       "                   }\n",
       "               });\n",
       "           });\n",
       "           </script>"
      ],
      "text/plain": [
       "<IPython.core.display.HTML object>"
      ]
     },
     "metadata": {},
     "output_type": "display_data"
    }
   ],
   "source": [
    "from imolecule import draw\n",
    "draw('packed.xyz')"
   ]
  }
 ],
 "metadata": {
  "kernelspec": {
   "display_name": "Python 2",
   "language": "python",
   "name": "python2"
  },
  "language_info": {
   "codemirror_mode": {
    "name": "ipython",
    "version": 2
   },
   "file_extension": ".py",
   "mimetype": "text/x-python",
   "name": "python",
   "nbconvert_exporter": "python",
   "pygments_lexer": "ipython2",
   "version": "2.7.11"
  }
 },
 "nbformat": 4,
 "nbformat_minor": 0
}
